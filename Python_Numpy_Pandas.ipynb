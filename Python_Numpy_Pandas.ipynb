{
  "cells": [
    {
      "cell_type": "markdown",
      "id": "882ab14f",
      "metadata": {},
      "source": [
        "# Machine Learning \n",
        "\n",
        "# Programming Assignment 0 (P0)\n",
        "**Name:**  \n",
        "**UIN:**  "
      ]
    },
    {
      "cell_type": "markdown",
      "id": "2e6f61f4",
      "metadata": {},
      "source": [
        "# Python Warmup\n",
        "\n",
        "This assignment tests the basics of Python, NumPy, and Pandas. They are the bread and butter for implementing machine learning algorithms. Hence, it is expected that you should be able to complete this assignment without breaking a lot of sweat. The level of difficulty of the questions varies between easy and medium. So, in case you are unfamiliar with NumPy and Pandas, they should provide you with a nice platform to get up to speed.  \n",
        "\n",
        "The assignment consists of 15 coding questions. You are required to complete the functions defined in the code blocks following each question.  You only need to fill out sections of the code marked `\"YOUR CODE HERE\"`. There are a few test cases defined for each question which you may use to verify your implementation. Do **NOT** modify these test cases."
      ]
    },
    {
      "cell_type": "markdown",
      "id": "a14dfd16",
      "metadata": {},
      "source": [
        "## Tutorial on Jupyter Notebooks\n",
        "\n",
        "If you are new to jupyter notebooks, you can find more information on how to use them [here](https://realpython.com/jupyter-notebook-introduction/)."
      ]
    },
    {
      "cell_type": "markdown",
      "id": "2043b5a2",
      "metadata": {},
      "source": [
        "## Python Basics"
      ]
    },
    {
      "cell_type": "markdown",
      "id": "4da92ed3",
      "metadata": {},
      "source": [
        "### Question 1 (5 points)\n",
        "**Complete the function `str_cmp` to return `True` if two strings are the same irrespective of lowercase/uppercase and whitespaces. Else, return `False`.**"
      ]
    },
    {
      "cell_type": "code",
      "execution_count": 1,
      "id": "35a5617a",
      "metadata": {},
      "outputs": [
        {
          "name": "stdout",
          "output_type": "stream",
          "text": [
            "True\n"
          ]
        }
      ],
      "source": [
        "def str_cmp(str_1, str_2):\n",
        "    # YOUR CODE HERE\n",
        "    a=str_1.upper()\n",
        "    b=str_2.upper()\n",
        "    c=a.replace(\" \", \"\")\n",
        "    d=b.replace(\" \", \"\")\n",
        "    if (c==d):\n",
        "        return True\n",
        "    else:\n",
        "        return False\n",
        "        \n",
        "        \n",
        "str_1=input()\n",
        "str_2=input()\n",
        "print(str_cmp(str_1, str_2))\n",
        "    "
      ]
    },
    {
      "cell_type": "code",
      "execution_count": null,
      "id": "de42b747",
      "metadata": {},
      "outputs": [],
      "source": [
        "# TEST CASES -- DO NOT MODIFY\n",
        "\n",
        "# Test Case 1\n",
        "assert str_cmp(\"csce\", \"csce\") == True, \"Failed test case 1\"\n",
        "print(\"Passed test case 1\\n\" + \"=\"*20)\n",
        "\n",
        "# Test Case 2\n",
        "assert str_cmp(\"csce\", \"csce412\") == False, \"Failed test case 2\"\n",
        "print(\"Passed test case 2\\n\" + \"=\"*20)\n",
        "\n",
        "# Test Case 3\n",
        "assert str_cmp(\"MaChine LeArnIng\", \"machine learning\") == True, \"Failed test case 3\"\n",
        "print(\"Passed test case 3\\n\" + \"=\"*20)\n",
        "\n",
        "# Test Case 4\n",
        "assert str_cmp(\"Machine Learning!\", \"Machine Learning\") == False, \"Failed test case 4\"\n",
        "print(\"Passed test case 4\\n\" + \"=\"*20)\n",
        "\n",
        "# Test Case 5\n",
        "assert str_cmp(\"  Machine Learning\", \"machine    Learning \") == True, \"Failed test case 5\"\n",
        "print(\"Passed test case 5\\n\" + \"=\"*20)\n",
        "\n",
        "print(\"*\"*29 + \"\\n**  PASSED ALL TEST CASES  **\\n\" + \"*\"*29)"
      ]
    },
    {
      "cell_type": "markdown",
      "id": "538dfd1a",
      "metadata": {},
      "source": [
        "### Question 2 (5 points)\n",
        "**Complete the function `power_list` in which each element is raised by its index to create a new list. Return the sum of the elements of the new list.**  \n",
        "\n",
        "Example:  \n",
        "given list: [1, 2, 3, 4]  \n",
        "new list: [1, 2, 9, 64]  \n",
        "sum of the elements of new list: 76"
      ]
    },
    {
      "cell_type": "code",
      "execution_count": 3,
      "id": "e103a1ec",
      "metadata": {},
      "outputs": [
        {
          "name": "stdout",
          "output_type": "stream",
          "text": [
            "[1, 2, 9, 64]\n",
            "76\n"
          ]
        }
      ],
      "source": [
        "def power_list(arr):\n",
        "    ## YOUR CODE HERE\n",
        "    \n",
        "    for i in range(len(arr)):\n",
        "        c=arr.index(arr[i])\n",
        "        arr[i]=arr[i]**c\n",
        "        d.append(arr[i])\n",
        "    return d    \n",
        "   \n",
        "arr=[]\n",
        "d=[]\n",
        "a=int(input())\n",
        "for i in range(a):\n",
        "    b=int(input())\n",
        "    arr.append(b)\n",
        "print(power_list(arr))\n",
        "print(sum(d))"
      ]
    },
    {
      "cell_type": "code",
      "execution_count": null,
      "id": "945f921a",
      "metadata": {},
      "outputs": [],
      "source": [
        "# TEST CASES -- DO NOT MODIFY\n",
        "\n",
        "# Test Case 1\n",
        "assert power_list([i for i in range(5)]) == 289, \"Failed test case 1\"\n",
        "print(\"Passed test case 1\\n\" + \"=\"*20)\n",
        "\n",
        "# Test Case 2\n",
        "assert power_list([-i for i in range(10, -1, -1)]) == 48, \"Failed test case 2\"\n",
        "print(\"Passed test case 2\\n\" + \"=\"*20)\n",
        "\n",
        "print(\"*\"*29 + \"\\n**  PASSED ALL TEST CASES  **\\n\" + \"*\"*29)"
      ]
    },
    {
      "cell_type": "markdown",
      "id": "bf2cfd31",
      "metadata": {},
      "source": [
        "### Question 3 (10 points)\n",
        "**Complete the function `create_stats` that returns the mean and median values of the values arranged in a nested list.**"
      ]
    },
    {
      "cell_type": "code",
      "execution_count": null,
      "id": "663e8d08",
      "metadata": {},
      "outputs": [],
      "source": [
        "def create_stats(universities):\n",
        "    \"\"\"\n",
        "    Return a tuple of (mean students enrolled, median students enrolled, mean tuition, median tuition)\n",
        "    Return a tuple of (mean cars sold, median cars sold, mean MSRP, median MSRP)\n",
        "    \"\"\"\n",
        "    \n",
        "    # YOUR CODE HERE\n",
        "    \n",
        "    "
      ]
    },
    {
      "cell_type": "code",
      "execution_count": null,
      "id": "cef665e2",
      "metadata": {},
      "outputs": [],
      "source": [
        "# TEST CASES -- DO NOT MODIFY\n",
        "\n",
        "# [[university name, students enrolled, tuition]]\n",
        "universities = [\n",
        "    [\"Harvard\", 19627, 39849],\n",
        "    [\"Massachusetts Institute of Technology\", 10566, 40732],\n",
        "    [\"Princeton\", 7806, 37000],\n",
        "    [\"Rice\", 5870, 35551],\n",
        "    [\"Stanford\", 19539, 40569],\n",
        "    [\"Yale\", 11706, 40500],\n",
        "]\n",
        "\n",
        "# [[model, cars sold, MSRP]]\n",
        "cars = [\n",
        "    [\"Ford F-series\", 52314, 35000],\n",
        "    [\"Toyota RAV4\", 41145, 30000],\n",
        "    [\"Honda CR-V\", 31530, 32000],\n",
        "    [\"Toyota Camry\", 32959, 28000],\n",
        "    [\"Honda Civic\", 28318, 23000]\n",
        "]\n",
        "\n",
        "# Test Case 1\n",
        "assert create_stats(universities) == (12519.0, 11136.0, 39033.5, 40174.5), \"Failed test case 1\"\n",
        "print(\"Passed test case 1\\n\" + \"=\"*20)\n",
        "\n",
        "# Test Case 2\n",
        "assert create_stats(cars) == (37253.2, 32959, 29600.0, 30000), \"Failed test case 2\"\n",
        "print(\"Passed test case 2\\n\" + \"=\"*20)\n",
        "\n",
        "print(\"*\"*29 + \"\\n**  PASSED ALL TEST CASES  **\\n\" + \"*\"*29)"
      ]
    },
    {
      "cell_type": "markdown",
      "id": "f518dfb5",
      "metadata": {},
      "source": [
        "# NumPy Basics"
      ]
    },
    {
      "cell_type": "code",
      "execution_count": null,
      "id": "58b94afd",
      "metadata": {},
      "outputs": [],
      "source": [
        "import numpy as np"
      ]
    },
    {
      "cell_type": "markdown",
      "id": "9f7c5978",
      "metadata": {},
      "source": [
        "### Question 4 (5 points)\n",
        "**Complete the function `matrix_reshape` to reshape a matrix to the target dimensions given by `n_rows` and `n_cols`.**"
      ]
    },
    {
      "cell_type": "code",
      "execution_count": null,
      "id": "7b2ee854",
      "metadata": {},
      "outputs": [],
      "source": [
        "def matrix_reshape(mat, n_rows, n_cols):\n",
        "    # YOUR CODE HERE\n",
        "    \n",
        "    "
      ]
    },
    {
      "cell_type": "code",
      "execution_count": null,
      "id": "009922e4",
      "metadata": {},
      "outputs": [],
      "source": [
        "# TEST CASES -- DO NOT MODIFY\n",
        "\n",
        "A = np.array([\n",
        "    [3, -4, 2, 9],\n",
        "    [6, 1, -5, 2],\n",
        "    [-7, 8, -1, 6]\n",
        "])\n",
        "\n",
        "# Test Case 1\n",
        "assert (matrix_reshape(np.arange(15), 3, 5) == np.array([[ 0,  1,  2,  3,  4], [ 5,  6,  7,  8,  9], \n",
        "                                                            [10, 11, 12, 13, 14]])).all(), \"Failed test case 1\"\n",
        "print(\"Passed test case 1\\n\" + \"=\"*20)\n",
        "\n",
        "# Test Case 2\n",
        "assert (matrix_reshape(A, 2, 6) == np.array([[ 3, -4,  2,  9,  6,  1],\n",
        "       [-5,  2, -7,  8, -1,  6]])).all(), \"Failed test case 2\"\n",
        "print(\"Passed test case 2\\n\" + \"=\"*20)\n",
        "\n",
        "print(\"*\"*29 + \"\\n**  PASSED ALL TEST CASES  **\\n\" + \"*\"*29)"
      ]
    },
    {
      "cell_type": "markdown",
      "id": "6be8fe6d",
      "metadata": {},
      "source": [
        "### Question 5 (5 points)\n",
        "**Complete the function `dot_product` that returns the dot product of two matrices. Dot product is also known as matrix multiplication.**"
      ]
    },
    {
      "cell_type": "code",
      "execution_count": null,
      "id": "477e0de2",
      "metadata": {},
      "outputs": [],
      "source": [
        "def dot_product(mat_1, mat_2):\n",
        "    # YOUR CODE HERE\n",
        "    \n",
        "    \n",
        "    "
      ]
    },
    {
      "cell_type": "code",
      "execution_count": null,
      "id": "45463c9e",
      "metadata": {},
      "outputs": [],
      "source": [
        "# TEST CASES -- DO NOT MODIFY\n",
        "\n",
        "A = np.array([\n",
        "    [3, -4, 2, 9],\n",
        "    [6, 1, -5, 2],\n",
        "    [-7, 8, -1, 6]\n",
        "])\n",
        "\n",
        "# Test Case 1\n",
        "assert dot_product(A[0,:], A[1,:]) == 22, \"Failed test case 1\"\n",
        "print(\"Passed test case 1\\n\" + \"=\"*20)\n",
        "\n",
        "# Test Case 2\n",
        "assert (dot_product(A[0,:], A.T) == np.array([110,  22,  -1])).all(), \"Failed test case 2\"\n",
        "print(\"Passed test case 2\\n\" + \"=\"*20)\n",
        "\n",
        "# Test Case 3\n",
        "assert (dot_product(A, A.T) == np.array([[110,  22,  -1], [ 22,  66, -17], \n",
        "                                               [ -1, -17, 150]])).all(), \"Failed test case 3\"\n",
        "print(\"Passed test case 3\\n\" + \"=\"*20)\n",
        "\n",
        "print(\"*\"*29 + \"\\n**  PASSED ALL TEST CASES  **\\n\" + \"*\"*29)"
      ]
    },
    {
      "cell_type": "markdown",
      "id": "7e8ead58",
      "metadata": {},
      "source": [
        "### Question 6 (5 points)\n",
        "**Complete the function `cross_product` that returns the cross product of two matrices.**"
      ]
    },
    {
      "cell_type": "code",
      "execution_count": null,
      "id": "79123733",
      "metadata": {},
      "outputs": [],
      "source": [
        "def cross_product(mat_1, mat_2):\n",
        "    # YOUR CODE HERE\n",
        "    \n",
        "    \n",
        "    "
      ]
    },
    {
      "cell_type": "code",
      "execution_count": null,
      "id": "5297b399",
      "metadata": {},
      "outputs": [],
      "source": [
        "# TEST CASES -- DO NOT MODIFY\n",
        "\n",
        "A = np.array([\n",
        "    [3, -4, 2, 9],\n",
        "    [6, 1, -5, 2],\n",
        "    [-7, 8, -1, 6]\n",
        "])\n",
        "\n",
        "# Test Case 1\n",
        "assert cross_product(A[0,:2], A[:2,1]) == -13, \"Failed test case 1\"\n",
        "print(\"Passed test case 1\\n\" + \"=\"*20)\n",
        "\n",
        "# Test Case 2\n",
        "assert cross_product(A[:2,:2], A[2:,2:])[0] == 14, \"Failed test case 2\"\n",
        "print(\"Passed test case 2\\n\" + \"=\"*20)\n",
        "\n",
        "print(\"*\"*29 + \"\\n**  PASSED ALL TEST CASES  **\\n\" + \"*\"*29)"
      ]
    },
    {
      "cell_type": "markdown",
      "id": "cd8ff4f9",
      "metadata": {},
      "source": [
        "### Question 7 (5 points)\n",
        "**Complete the function `inverse` that computes the inverse of a matrix.**"
      ]
    },
    {
      "cell_type": "code",
      "execution_count": null,
      "id": "f6602906",
      "metadata": {},
      "outputs": [],
      "source": [
        "def inverse(mat):\n",
        "    # YOUR CODE HERE\n",
        "    \n",
        "    "
      ]
    },
    {
      "cell_type": "code",
      "execution_count": null,
      "id": "ae2d0a7e",
      "metadata": {},
      "outputs": [],
      "source": [
        "# TEST CASES -- DO NOT MODIFY\n",
        "\n",
        "A = np.array([\n",
        "    [6, 1, 1],\n",
        "    [4, -2, 5],\n",
        "    [2, 8, 7]\n",
        "])\n",
        "\n",
        "# Test Case 1\n",
        "assert np.allclose(inverse(A), np.array([[ 0.17647059, -0.00326797, -0.02287582],\n",
        "       [ 0.05882353, -0.13071895,  0.08496732],\n",
        "       [-0.11764706,  0.1503268 ,  0.05228758]])), \"Failed test case 1\"\n",
        "print(\"Passed test case 1\\n\" + \"=\"*20)\n",
        "\n",
        "# Test Case 2\n",
        "assert (inverse(A[:2,:2]) == np.array([[ 0.125 ,  0.0625],\n",
        "       [ 0.25  , -0.375 ]])).all(), \"Failed test case 2\"\n",
        "print(\"Passed test case 2\\n\" + \"=\"*20)\n",
        "\n",
        "print(\"*\"*29 + \"\\n**  PASSED ALL TEST CASES  **\\n\" + \"*\"*29)"
      ]
    },
    {
      "cell_type": "markdown",
      "id": "676a062c",
      "metadata": {},
      "source": [
        "### Question 8 (10 points)\n",
        "**Complete the function `subtract_mean` that subtracts the row-wise mean from each row of a matrix.**"
      ]
    },
    {
      "cell_type": "code",
      "execution_count": null,
      "id": "d961fe24",
      "metadata": {},
      "outputs": [],
      "source": [
        "def subtract_mean(mat):\n",
        "    ## YOUR CODE HERE\n",
        "    \n",
        "    "
      ]
    },
    {
      "cell_type": "code",
      "execution_count": null,
      "id": "2c022f5d",
      "metadata": {},
      "outputs": [],
      "source": [
        "A = np.array([\n",
        "    [3, -4, 2, 9],\n",
        "    [6, 1, -5, 2],\n",
        "    [-7, 8, -1, 6]\n",
        "])\n",
        "\n",
        "# Test Case 1\n",
        "assert (subtract_mean(np.arange(12).reshape(4,3)) == np.array([[-1.,  0.,  1.], [-1.,  0.,  1.],\n",
        "       [-1.,  0.,  1.], [-1.,  0.,  1.]])).all(), \"Failed test case 1\"\n",
        "print(\"Passed test case 1\\n\" + \"=\"*20)\n",
        "\n",
        "# Test Case 2\n",
        "assert (subtract_mean(A) == np.array([[0.5, -6.5, -0.5,  6.5], [5. ,  0. , -6. ,  1. ], \n",
        "        [-8.5,  6.5, -2.5,  4.5]])).all(), \"Failed test case 2\"\n",
        "print(\"Passed test case 2\\n\" + \"=\"*20)\n",
        "\n",
        "print(\"*\"*29 + \"\\n**  PASSED ALL TEST CASES  **\\n\" + \"*\"*29)"
      ]
    },
    {
      "cell_type": "markdown",
      "id": "936fb3bc",
      "metadata": {},
      "source": [
        "### Question 9 (10 points)\n",
        "**Complete the function `moving_average` that computes averages over a sliding window of size `window_size` for a 1-D array.**"
      ]
    },
    {
      "cell_type": "code",
      "execution_count": null,
      "id": "95012d0c",
      "metadata": {},
      "outputs": [],
      "source": [
        "def moving_average(arr, window_size):\n",
        "    # YOUR CODE HERE\n",
        "    \n",
        "    "
      ]
    },
    {
      "cell_type": "code",
      "execution_count": null,
      "id": "463a46d1",
      "metadata": {},
      "outputs": [],
      "source": [
        "# Test Case 1\n",
        "assert (moving_average(np.arange(10), 3) == np.arange(8)+1).all(), \"Failed test case 1\"\n",
        "print(\"Passed test case 1\\n\" + \"=\"*20)\n",
        "\n",
        "# Test Case 2\n",
        "assert (moving_average(np.array([-10, 5, 6, -4, 7, 9]), 2) == \n",
        "        np.array([-2.5, 5.5, 1, 1.5, 8])).all(), \"Failed test case 2\"\n",
        "print(\"Passed test case 2\\n\" + \"=\"*20)\n",
        "\n",
        "print(\"*\"*29 + \"\\n**  PASSED ALL TEST CASES  **\\n\" + \"*\"*29)"
      ]
    },
    {
      "cell_type": "markdown",
      "id": "9aa618f6",
      "metadata": {},
      "source": [
        "# Pandas Basics"
      ]
    },
    {
      "cell_type": "code",
      "execution_count": null,
      "id": "edd1866d",
      "metadata": {},
      "outputs": [],
      "source": [
        "import pandas as pd"
      ]
    },
    {
      "cell_type": "markdown",
      "id": "2395daa3",
      "metadata": {},
      "source": [
        "The provided data contains flight delay information over a period of 3 days.\n",
        "\n",
        "**Data Description**    \n",
        "`From`: Source City  \n",
        "`To`: Destination City  \n",
        "`Flight Number`: Flight ID  \n",
        "`Delay_1`: Delay on Day 1  \n",
        "`Delay_2`: Delay on Day 2  \n",
        "`Delay_3`: Delay on Day 3  \n",
        "`Airline`: Carrier  "
      ]
    },
    {
      "cell_type": "code",
      "execution_count": null,
      "id": "dc153bef",
      "metadata": {},
      "outputs": [],
      "source": [
        "data = {'From': ['London', 'Madrid', 'London', \n",
        "                   'Budapest', 'Brussels'],\n",
        "        'To': ['Paris', 'Milan', 'Stockholm', 'Paris', 'London'],\n",
        "        'FlightNumber': [10045, np.nan, 10065, np.nan, 10085],\n",
        "        'Delay_1': [23, np.nan, 24, 13, 67],\n",
        "        'Delay_2': [47, np.nan, 43, np.nan, 32],\n",
        "        'Delay_3': [np.nan, np.nan, 87, np.nan, np.nan],\n",
        "        'Airline': ['KLM', 'Air France', 'British Airways', \n",
        "                    'Air France', 'Swiss Air']}"
      ]
    },
    {
      "cell_type": "code",
      "execution_count": null,
      "id": "015629c8",
      "metadata": {},
      "outputs": [],
      "source": [
        "df = pd.DataFrame(data)"
      ]
    },
    {
      "cell_type": "code",
      "execution_count": null,
      "id": "6822ed9f",
      "metadata": {},
      "outputs": [],
      "source": [
        "df.head()"
      ]
    },
    {
      "cell_type": "markdown",
      "id": "1d9d8114",
      "metadata": {},
      "source": [
        "### Question 10 (5 points)\n",
        "**Compute the number of unique cities in `df`.**"
      ]
    },
    {
      "cell_type": "code",
      "execution_count": null,
      "id": "346c1a8a",
      "metadata": {},
      "outputs": [],
      "source": [
        "## YOUR CODE HERE\n",
        "\n"
      ]
    },
    {
      "cell_type": "markdown",
      "id": "c465de2a",
      "metadata": {},
      "source": [
        "### Question 11 (5 points)\n",
        "**Calculate the number of flights flying out of `London`.**"
      ]
    },
    {
      "cell_type": "code",
      "execution_count": null,
      "id": "8d9d5fe8",
      "metadata": {},
      "outputs": [],
      "source": [
        "## YOUR CODE HERE\n",
        "\n"
      ]
    },
    {
      "cell_type": "markdown",
      "id": "b68b65f8",
      "metadata": {},
      "source": [
        "### Question 12 (5 points)\n",
        "**Which cities are served by `Air France`?**"
      ]
    },
    {
      "cell_type": "code",
      "execution_count": null,
      "id": "717d4485",
      "metadata": {},
      "outputs": [],
      "source": [
        "## YOUR CODE HERE\n",
        "\n"
      ]
    },
    {
      "cell_type": "markdown",
      "id": "466270e6",
      "metadata": {},
      "source": [
        "### Question 13 (5 points)\n",
        "**Calculate the total number of missing values (they are `NaN`) in `df`.**"
      ]
    },
    {
      "cell_type": "code",
      "execution_count": null,
      "id": "2d8f4abd",
      "metadata": {},
      "outputs": [],
      "source": [
        "## YOUR CODE HERE\n",
        "\n"
      ]
    },
    {
      "cell_type": "markdown",
      "id": "b26b0d55",
      "metadata": {},
      "source": [
        "### Question 14 (10 points)\n",
        "**Calculate the average delay (ignoring `NaN` values) for all the flights. Then modify `df` by replacing all the `NaN` values in `Delay_1`, `Delay_2`, and, `Delay_3` columns with the average delay.**"
      ]
    },
    {
      "cell_type": "code",
      "execution_count": null,
      "id": "b0e6425c",
      "metadata": {},
      "outputs": [],
      "source": [
        "# YOUR CODE HERE\n",
        "\n"
      ]
    },
    {
      "cell_type": "code",
      "execution_count": null,
      "id": "94c59963",
      "metadata": {},
      "outputs": [],
      "source": [
        "df.head()"
      ]
    },
    {
      "cell_type": "markdown",
      "id": "c5452f65",
      "metadata": {},
      "source": [
        "### Question 15 (10 points)\n",
        "**Some values in the the `FlightNumber` column are missing (`NaN`). These numbers are meant to increase by 10 with each row. So, the `FlightNumber` at row labels 1 and 3 should be 10055 and 10075 respectively. Modify `df` to fill in these missing numbers and make the column an integer column (instead of a float column).**"
      ]
    },
    {
      "cell_type": "code",
      "execution_count": null,
      "id": "cce26572",
      "metadata": {},
      "outputs": [],
      "source": [
        "## YOUR CODE HERE\n",
        "\n"
      ]
    },
    {
      "cell_type": "code",
      "execution_count": null,
      "id": "7f581e05",
      "metadata": {},
      "outputs": [],
      "source": [
        "df.head()"
      ]
    },
    {
      "cell_type": "code",
      "execution_count": null,
      "id": "3b3dc16b",
      "metadata": {},
      "outputs": [],
      "source": [
        "df.info()"
      ]
    },
    {
      "cell_type": "code",
      "execution_count": null,
      "id": "60e14135",
      "metadata": {},
      "outputs": [],
      "source": []
    }
  ],
  "metadata": {
    "kernelspec": {
      "display_name": "base",
      "language": "python",
      "name": "python3"
    },
    "language_info": {
      "codemirror_mode": {
        "name": "ipython",
        "version": 3
      },
      "file_extension": ".py",
      "mimetype": "text/x-python",
      "name": "python",
      "nbconvert_exporter": "python",
      "pygments_lexer": "ipython3",
      "version": "3.9.12 (main, Apr  4 2022, 05:22:27) [MSC v.1916 64 bit (AMD64)]"
    },
    "vscode": {
      "interpreter": {
        "hash": "9a4812011cc9db5e84ad8f6096ad35da5982dac9fcf722cd8182fd3432aa67c8"
      }
    }
  },
  "nbformat": 4,
  "nbformat_minor": 5
}
